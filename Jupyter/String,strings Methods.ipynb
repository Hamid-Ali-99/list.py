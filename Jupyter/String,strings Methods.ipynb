{
 "cells": [
  {
   "cell_type": "code",
   "execution_count": null,
   "id": "4211af70",
   "metadata": {},
   "outputs": [],
   "source": [
    "str=\"ENTER\"\n",
    "str.lower()"
   ]
  },
  {
   "cell_type": "code",
   "execution_count": null,
   "id": "1ac6ea5a",
   "metadata": {},
   "outputs": [],
   "source": [
    "str1=\"learning\"\n",
    "str1[::-1]"
   ]
  },
  {
   "cell_type": "code",
   "execution_count": null,
   "id": "56a2ec65",
   "metadata": {},
   "outputs": [],
   "source": [
    "str1=\"learning the coding is great fun\"\n",
    "str1[2:10:-1]"
   ]
  },
  {
   "cell_type": "code",
   "execution_count": null,
   "id": "913465fb",
   "metadata": {},
   "outputs": [],
   "source": [
    "str=\"hsdnfmfn\"\n",
    "str.capitalize()"
   ]
  },
  {
   "cell_type": "code",
   "execution_count": 43,
   "id": "43fd7efc",
   "metadata": {},
   "outputs": [
    {
     "data": {
      "text/plain": [
       "2"
      ]
     },
     "execution_count": 43,
     "metadata": {},
     "output_type": "execute_result"
    }
   ],
   "source": [
    "str=\"jhfdsn ghdgh\"\n",
    "str.count(\"g\")"
   ]
  },
  {
   "cell_type": "code",
   "execution_count": null,
   "id": "401300ad",
   "metadata": {},
   "outputs": [],
   "source": [
    "str=\"           hgjghkfhji  hvikfghky        \"\n",
    "str.strip()\n",
    "str.lstrip()\n",
    "str.rstrip()"
   ]
  },
  {
   "cell_type": "code",
   "execution_count": null,
   "id": "946a50a0",
   "metadata": {},
   "outputs": [],
   "source": [
    "str=\"Learning the coding is great fun.\"\n",
    "str.startswith(\"learning\")"
   ]
  },
  {
   "cell_type": "code",
   "execution_count": null,
   "id": "d97443f4",
   "metadata": {},
   "outputs": [],
   "source": [
    "str=\"Learning the coding is great fun.\"\n",
    "str.startswith(\"learning\")"
   ]
  },
  {
   "cell_type": "code",
   "execution_count": null,
   "id": "baa35256",
   "metadata": {},
   "outputs": [],
   "source": [
    "str=\"Learning the coding is great fun.\"\n",
    "str.startswith(\"arn\",2,5)"
   ]
  },
  {
   "cell_type": "code",
   "execution_count": null,
   "id": "e8b4d0f3",
   "metadata": {},
   "outputs": [],
   "source": [
    "str=\"Learning the coding is great fun.\"\n",
    "str.startswith(\"coding\",13)\n",
    "# startswith take the arguments that they check the string that we provide it is start at the same index or \n",
    "# position if yes then they provide us the trues or other wise the they provide us the false.\n"
   ]
  },
  {
   "cell_type": "markdown",
   "id": "910e8b9b",
   "metadata": {},
   "source": [
    "# split() methosd is use to divide the a single string into multiple small list by default on the base of the space other wese you can use the sep=\"i\", to split the string that character or the compotent of the string."
   ]
  },
  {
   "cell_type": "code",
   "execution_count": null,
   "id": "2d5363e1",
   "metadata": {},
   "outputs": [],
   "source": [
    "str=\"Learning the coding is the great Fun.\"\n",
    "str1=str.split()\n",
    "print(str1)"
   ]
  },
  {
   "cell_type": "code",
   "execution_count": null,
   "id": "c1a65046",
   "metadata": {},
   "outputs": [],
   "source": [
    "str=\"Learning the coding is the great Fun.\"\n",
    "str1=str.split(sep=\"i\")\n",
    "print(str1)"
   ]
  },
  {
   "cell_type": "code",
   "execution_count": null,
   "id": "26b9328b",
   "metadata": {},
   "outputs": [],
   "source": [
    "mylist=[\"Learning\",\"the\",\"coding\",\"is\",\"Great\",\"Fun\"]\n",
    "# the empty string the separator or you can use other items just put inside the empty string.\n",
    "str=\" \".join(mylist)\n",
    "print(mylist)\n",
    "print(str)"
   ]
  },
  {
   "cell_type": "code",
   "execution_count": null,
   "id": "3f1b6e52",
   "metadata": {},
   "outputs": [],
   "source": [
    "mylist=[\"Learning\",\"the\",\"coding\",\"is\",\"Great\",\"Fun\"]\n",
    "# the empty string the separator or you can use other items just put inside the empty string.\n",
    "str=\"_\".join(mylist)\n",
    "print(mylist)\n",
    "print(str)"
   ]
  },
  {
   "cell_type": "code",
   "execution_count": null,
   "id": "59388125",
   "metadata": {},
   "outputs": [],
   "source": [
    "str1=\"learning the codeing is great fun\"\n",
    "str1[0:len(str1)]#slicing"
   ]
  },
  {
   "cell_type": "code",
   "execution_count": null,
   "id": "031c1c34",
   "metadata": {},
   "outputs": [],
   "source": [
    "str=\"learning\"\n",
    "help(slice)"
   ]
  },
  {
   "cell_type": "code",
   "execution_count": null,
   "id": "14b674ad",
   "metadata": {},
   "outputs": [],
   "source": [
    "str=\"learning the coding is great fun\"\n",
    "str[::1]"
   ]
  },
  {
   "cell_type": "code",
   "execution_count": null,
   "id": "25433939",
   "metadata": {},
   "outputs": [],
   "source": [
    "str=\"LearningTheCodingIsGreatFun\"\n",
    "str.find(\"Coding\")#this will return the first index of the coding onwhich places they find it\n"
   ]
  },
  {
   "cell_type": "code",
   "execution_count": null,
   "id": "9818035c",
   "metadata": {},
   "outputs": [],
   "source": [
    "str=\"LearningTheCodingIsGreatFun\"\n",
    "str.find(\"Coding\",2)#Second Arguments starts searching from that index # Case Sensitive"
   ]
  },
  {
   "cell_type": "code",
   "execution_count": null,
   "id": "2ca5eee1",
   "metadata": {},
   "outputs": [],
   "source": [
    "str=\"LearningTheCodingIsGreatFun\"\n",
    "str.find(\"Coding\",2,17)#thrid argument stops searching uptill that index."
   ]
  },
  {
   "cell_type": "code",
   "execution_count": null,
   "id": "7f2509cc",
   "metadata": {},
   "outputs": [],
   "source": [
    "print(\"hello\".replace(\"e\",\"a\"))"
   ]
  },
  {
   "cell_type": "code",
   "execution_count": null,
   "id": "0acfc350",
   "metadata": {},
   "outputs": [],
   "source": [
    "str=\"Learning the coding is great fun.\"\n",
    "newstr=str.replace(\"coding\",\"Quran\")\n",
    "print(str)\n",
    "print(newstr)"
   ]
  },
  {
   "cell_type": "code",
   "execution_count": null,
   "id": "5a30b99b",
   "metadata": {},
   "outputs": [],
   "source": [
    "age=23; name=\"Hamid Ali\"\n",
    "print(\"Mr. {} you are {} years old.\".format(name,age))#format replace the braces with the arguments that \n",
    "# you provides hem"
   ]
  },
  {
   "cell_type": "code",
   "execution_count": null,
   "id": "b9ca39b7",
   "metadata": {},
   "outputs": [],
   "source": [
    "age=23; name=\"Hamid Ali\";student=\"BSIT\";salary=\"none\"\n",
    "# print(\"Mr. {} you are {} years old.\".format(name,age))\n",
    "newstr=\"Mr. {1} you studing in class of {2} in the age of {0} years old and have the salary of {3}\".format(age,name,student,salary)\n",
    "print(newstr)"
   ]
  },
  {
   "cell_type": "code",
   "execution_count": null,
   "id": "a0cbe929",
   "metadata": {},
   "outputs": [],
   "source": [
    "a=\"hello\";b=\"hello\"\n",
    "print(a==b);# the double equal check the contents of the two string.\n",
    "print(a is b);# this \"is\" will check the memory address of the strings."
   ]
  },
  {
   "cell_type": "code",
   "execution_count": null,
   "id": "66ae9bab",
   "metadata": {},
   "outputs": [],
   "source": [
    "a=\"hello\";b=\"bye\"\n",
    "print(a is not b);print(a!=b);#Here the (is not) check the memory addres and the (!=) check the contents\n",
    "# of the two string"
   ]
  },
  {
   "cell_type": "code",
   "execution_count": null,
   "id": "5ca188c3",
   "metadata": {},
   "outputs": [],
   "source": [
    "#String Membership test using the (in) operator.\n",
    "str=\"Learning the coding is great Fun.\"\n",
    "new=\"a\"in str\n",
    "print(new)"
   ]
  },
  {
   "cell_type": "code",
   "execution_count": null,
   "id": "3a559522",
   "metadata": {},
   "outputs": [],
   "source": [
    "#String Membership test using the (in) operator.\n",
    "str=\"Learning the coding is great Fun.\"\n",
    "new=\"a\"not in str\n",
    "print(new)"
   ]
  },
  {
   "cell_type": "code",
   "execution_count": null,
   "id": "9a4bb3cb",
   "metadata": {},
   "outputs": [],
   "source": [
    "str=\"python is interpreted language\"\n",
    "str[-2:-9:-2]"
   ]
  },
  {
   "cell_type": "code",
   "execution_count": null,
   "id": "a50a4647",
   "metadata": {},
   "outputs": [],
   "source": [
    "str=\"0123456789\"\n",
    "str[-2:-9:-2]"
   ]
  },
  {
   "cell_type": "code",
   "execution_count": null,
   "id": "5c791caa",
   "metadata": {},
   "outputs": [],
   "source": [
    "str1=\"Arfa is a good gril\"\n",
    "str1.split()\n",
    "str1[-1::]\n",
    "print(str1)"
   ]
  },
  {
   "cell_type": "code",
   "execution_count": 1,
   "id": "d5557571",
   "metadata": {},
   "outputs": [
    {
     "name": "stdout",
     "output_type": "stream",
     "text": [
      "['gril', 'good', 'a', 'is', 'Arfa']\n",
      "gril good a is Arfa\n",
      "GI ODAI RA\n"
     ]
    }
   ],
   "source": [
    "txt = \"Arfa is a good gril\"\n",
    "\n",
    "x = txt.split()\n",
    "z=x[::-1]\n",
    "c=\" \".join(z)\n",
    "a=c[0::2].upper()\n",
    "print(z,c,a, sep=\"\\n\")"
   ]
  },
  {
   "cell_type": "code",
   "execution_count": 278,
   "id": "8f10b583",
   "metadata": {},
   "outputs": [
    {
     "name": "stdout",
     "output_type": "stream",
     "text": [
      "ArFa iS A GoOd gRiL"
     ]
    }
   ],
   "source": [
    "def uppers(z):\n",
    "    for i in range(0,len(z)): \n",
    "        if i%2==0:\n",
    "            print(z[i].upper(),end=\"\") \n",
    "        else:\n",
    "            print(z[i],end=\"\") \n",
    "            i=i+1\n",
    "    return -1\n",
    "z = \"arfa is a good gril\"\n",
    "result=uppers(z)"
   ]
  }
 ],
 "metadata": {
  "kernelspec": {
   "display_name": "Python 3 (ipykernel)",
   "language": "python",
   "name": "python3"
  },
  "language_info": {
   "codemirror_mode": {
    "name": "ipython",
    "version": 3
   },
   "file_extension": ".py",
   "mimetype": "text/x-python",
   "name": "python",
   "nbconvert_exporter": "python",
   "pygments_lexer": "ipython3",
   "version": "3.8.10"
  }
 },
 "nbformat": 4,
 "nbformat_minor": 5
}
