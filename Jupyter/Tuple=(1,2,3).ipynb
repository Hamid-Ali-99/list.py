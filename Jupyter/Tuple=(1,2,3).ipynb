{
 "cells": [
  {
   "cell_type": "code",
   "execution_count": null,
   "id": "0f16efed",
   "metadata": {},
   "outputs": [],
   "source": [
    "tup=(1,2,3,4,5)#tuple with square brackets \n",
    "tup=1,2,3,4,5,6#tuple without squrae brackets \n",
    "print(tup)"
   ]
  },
  {
   "cell_type": "code",
   "execution_count": null,
   "id": "3567fae7",
   "metadata": {},
   "outputs": [],
   "source": [
    "tup=(1.2,2.3,3.4,5.0)#tuple of floats.\n",
    "t1=(\"string\",\"12\",\"pak\",\"second\")#tuple of strings.\n",
    "t2=(True,False,True)#tuple of boolean.\n",
    "t3=()#Empty Tuple.\n",
    "print(type(tup),type(t1),type(t2),type(t3),t1,tup,t3,t2,sep=\"\\n\")\n"
   ]
  },
  {
   "cell_type": "code",
   "execution_count": null,
   "id": "d4ab32d1",
   "metadata": {},
   "outputs": [],
   "source": [
    "#Single Elements Tuple.\n",
    "t4=(23)# the python considor it as the int not tuple to create a tuple provide square brackets and the comma after the value,\n",
    "t4=(23,)#this is tuple the above one is not.\n",
    "print(type(t4),t4)"
   ]
  },
  {
   "cell_type": "code",
   "execution_count": null,
   "id": "50bd2ae7",
   "metadata": {},
   "outputs": [],
   "source": [
    "#tuple has the nested tuple or the tuple inside the tuple.\n",
    "t5=(1,2,3,(5,6,76,7))\n",
    "print(type(t5),t5)"
   ]
  },
  {
   "cell_type": "code",
   "execution_count": null,
   "id": "e0c21cb5",
   "metadata": {},
   "outputs": [],
   "source": [
    "#Tuple has the nested items of integars, tuples it self, list.\n",
    "t6=(1,2,3,(3,45,5),[2,3,45,5])\n",
    "print(type(t6),t6)"
   ]
  },
  {
   "cell_type": "markdown",
   "id": "f8a84b88",
   "metadata": {},
   "source": [
    "# Tuple(1,) are also hetrogeneous like as the list[1,2]."
   ]
  },
  {
   "cell_type": "code",
   "execution_count": null,
   "id": "5fff1312",
   "metadata": {},
   "outputs": [],
   "source": [
    "t7=(\"string\",True,2.3,23)\n",
    "print(type(t7),t7)"
   ]
  },
  {
   "cell_type": "markdown",
   "id": "68c03f8d",
   "metadata": {},
   "source": [
    "# Tuple are the ordered Means the every Elements or item has the associated by an index.\n",
    "1. Every time you associate with tuple elements they will show up in the same sequence.\n",
    "2. Two Tuples have same elements with diffrence sequence are not same."
   ]
  },
  {
   "cell_type": "code",
   "execution_count": null,
   "id": "262725bb",
   "metadata": {},
   "outputs": [],
   "source": [
    "# by value and the address both has the different they show the false on both.\n",
    "t8=(1,2,3)\n",
    "t9=(3,1,2)\n",
    "print(id(t8) is id(t9),\" \",id(t8) ,\" \", id(t9)  ,\" \", t8==t9 )"
   ]
  },
  {
   "cell_type": "code",
   "execution_count": null,
   "id": "bb31a551",
   "metadata": {},
   "outputs": [],
   "source": [
    "# here they has the same value and the diffrent address.\n",
    "t8=(1,2,3)\n",
    "\n",
    "t9=(1,2,3)\n",
    "print(t8 is t9 , t8==t9 )"
   ]
  },
  {
   "cell_type": "code",
   "execution_count": null,
   "id": "200eb585",
   "metadata": {},
   "outputs": [],
   "source": [
    "Err=(1,2,3,45,5)#Tuple are immutables.\n",
    "Err[2]=123# this will generat the Error.\n",
    "Err"
   ]
  },
  {
   "cell_type": "code",
   "execution_count": null,
   "id": "6ea23b84",
   "metadata": {},
   "outputs": [],
   "source": [
    "# Tuple sport the reassignment not replacement.\n",
    "reassign=(1,2,34,4)#this one become orphan.\n",
    "reassign=(2,3,4,5)#the new value assigned to the tuple.\n",
    "reassign\n"
   ]
  },
  {
   "cell_type": "code",
   "execution_count": null,
   "id": "0f1b8f5f",
   "metadata": {},
   "outputs": [],
   "source": [
    "# The list inside the Tuple still mutable.\n",
    "mut=(1,2,[1,\"not ok\",\"Same\",2.3],(1,2,3,\"same\"))\n",
    "mut[2][1]=\"Ok\"    # This will Work Fine.\n",
    "mut"
   ]
  },
  {
   "cell_type": "markdown",
   "id": "355eb543",
   "metadata": {},
   "source": [
    "# Unpacking\n",
    "1. you can Unpack the tuple.\n",
    "2. The Numbers of Variables on the left must match the length of Tuple."
   ]
  },
  {
   "cell_type": "code",
   "execution_count": null,
   "id": "45857ee9",
   "metadata": {},
   "outputs": [],
   "source": [
    "unpack=(\"First\",\"Second\",\"Third\",\"Forth\",\"Five\")\n",
    "t1,t2,t3,t4,t5=unpack\n",
    "print(t1,t2,t4)"
   ]
  },
  {
   "cell_type": "markdown",
   "id": "f95388e7",
   "metadata": {},
   "source": [
    "# Packing\n",
    "1. You can Pack the individual Elements to a Tuple."
   ]
  },
  {
   "cell_type": "code",
   "execution_count": null,
   "id": "7fd0ebc3",
   "metadata": {},
   "outputs": [],
   "source": [
    "pack=t1,t2,t3,t4,t5\n",
    "print(type(pack),pack,sep=\"\\n\")"
   ]
  },
  {
   "cell_type": "markdown",
   "id": "7f31c8d6",
   "metadata": {},
   "source": [
    "# Accessing\n",
    "1. by Indexing.\n",
    "2. by index() method of Tuple Class."
   ]
  },
  {
   "cell_type": "code",
   "execution_count": null,
   "id": "42977840",
   "metadata": {},
   "outputs": [],
   "source": [
    "# We can Accessing the elements or Value by using the indexing which start from Zero.\n",
    "acc=(\"Hamid\",12,3.2,(12,\"Ali\"))\n",
    "print(acc[2])               #Accessing Elements at the index of 2.\n",
    "print(acc[3])               # Accessing Elements at the index of 3 which again Tuple.\n",
    "\n",
    "# Accessing the Nested Elements.\n",
    "\n",
    "print(acc[0][3])           # Accessing the forth Elements it the index of 0.\n",
    "acc[3][1][2]                # Accessing the Nested Elements."
   ]
  },
  {
   "cell_type": "markdown",
   "id": "d16212a0",
   "metadata": {},
   "source": [
    "# Negative Indexing\n",
    "1. Negative Indexing starts looking at the Tuple from the Right hand Side."
   ]
  },
  {
   "cell_type": "code",
   "execution_count": null,
   "id": "c7ba8740",
   "metadata": {},
   "outputs": [],
   "source": [
    "neg=(1,2,\"Like String or List.\",\"Negative Indexing\")\n",
    "print(neg[-1],neg[-2],sep=\"\\n\")"
   ]
  },
  {
   "cell_type": "markdown",
   "id": "a14ffc8e",
   "metadata": {},
   "source": [
    "# Index() Method\n",
    "1. index(value) Method is used when you know  the Tuple Elements and Wants  to get  its index.\n",
    "2. index(value) Method returns the index of the first Matched item with  its only Argument."
   ]
  },
  {
   "cell_type": "code",
   "execution_count": null,
   "id": "612e0706",
   "metadata": {},
   "outputs": [],
   "source": [
    "ind=(1,\"Arif\",\"Ali\",2,3)\n",
    "# Get the Index of the Arif \n",
    "tupind=ind.index(\"Arif\")\n",
    "print(ind,tupind,sep=\"\\n\")"
   ]
  },
  {
   "cell_type": "markdown",
   "id": "7ba21cc6",
   "metadata": {},
   "source": [
    "# Slicing Tuple:\n",
    "1. Tuple[start:stop:step]\n",
    " 1. start >< By Default it Zero and you can Over Writh it.\n",
    "  2. stop >< By Default it is the lenght of the Tuple and you can Also over writh it.\n",
    "  3. step >< By Default it is Also 1 and you and also over writh it.\n",
    "2. Slicing >< Can be of any order means the Asending or desending order Or Negative or Positive."
   ]
  },
  {
   "cell_type": "code",
   "execution_count": null,
   "id": "ff29098e",
   "metadata": {},
   "outputs": [],
   "source": [
    "# positive or left to Right Slicing of Tuple.\n",
    "sli=(\"a\",\"b\",\"c\",\"d\",\"e\",\"f\")\n",
    "mysli=sli[0:-1:]\n",
    "mysli"
   ]
  },
  {
   "cell_type": "code",
   "execution_count": null,
   "id": "eed86e96",
   "metadata": {},
   "outputs": [],
   "source": [
    "# Negatie or Right to Left Slicing of Tuple.\n",
    "mysli1=sli[::-1]\n",
    "mysli1"
   ]
  },
  {
   "cell_type": "code",
   "execution_count": null,
   "id": "becdaacc",
   "metadata": {},
   "outputs": [],
   "source": [
    "# tuple are immutable show the slicing on the right or variable side can generate Error.\n",
    "sli[2::-1]=sli#this Generate Error."
   ]
  },
  {
   "cell_type": "markdown",
   "id": "21bf392b",
   "metadata": {},
   "source": [
    "# Concatenation of Tuple.\n",
    "1. The + Operator is use to Concatenate the Two or more tuples."
   ]
  },
  {
   "cell_type": "code",
   "execution_count": null,
   "id": "4042229f",
   "metadata": {},
   "outputs": [],
   "source": [
    "a=(1,2,3,4)\n",
    "b=a+(\",\",1,2,3)         #Adding Some Element at the End of the Existing Tuples using Concatenation operator.\n",
    "c=(0,)+b                   #Adding the Some Elements at the Start of the Existing Tuple using concatenation operator.\n",
    "a,b,c"
   ]
  },
  {
   "cell_type": "code",
   "execution_count": null,
   "id": "85ffee7d",
   "metadata": {},
   "outputs": [],
   "source": [
    "# using the HetroGeneous Tuple with Concatenation operator.\n",
    "a=(1,2.3,\"String\",True)\n",
    "b=(False,0,2.0j,\"string\")\n",
    "c=a+b\n",
    "a,b,c\n",
    "\n"
   ]
  },
  {
   "cell_type": "markdown",
   "id": "f5c71813",
   "metadata": {},
   "source": [
    "# Replicated of Tuple.\n",
    "1. We can Replicate the Tuple at the Multiple Types by Using the * opertor."
   ]
  },
  {
   "cell_type": "code",
   "execution_count": null,
   "id": "72d60eca",
   "metadata": {},
   "outputs": [],
   "source": [
    "rep=(\"Hamid\",\"ALi\",\"ML,Al\")\n",
    "newrep=rep*3\n",
    "newrep"
   ]
  },
  {
   "cell_type": "code",
   "execution_count": null,
   "id": "6c0bb5be",
   "metadata": {},
   "outputs": [],
   "source": [
    "rep=(\"A\")\n",
    "newrep=rep*100\n",
    "print(newrep)"
   ]
  },
  {
   "cell_type": "markdown",
   "id": "f75b7c97",
   "metadata": {},
   "source": [
    "# Adding Elements:\n",
    "1. like we able to add Elements in list using the appened(),Extend(),insert() and the Tuple is immutable so we are not able to add or remove Element from the Tuple.\n",
    "2. AttributeError: 'tuple' object has no attribute 'insert'"
   ]
  },
  {
   "cell_type": "code",
   "execution_count": null,
   "id": "97d23478",
   "metadata": {},
   "outputs": [],
   "source": [
    "rep=(\"Hamid\",\"ALi\",\"ML,Al\")\n",
    "newrep=rep.insert(2,\"Error\")        #This will Generate the Error. the tuple has no Attribute like insert. \n",
    "print(newrep)"
   ]
  },
  {
   "cell_type": "markdown",
   "id": "17ecf2ed",
   "metadata": {},
   "source": [
    "# Removing Elements\n",
    "1. Tuple are Immutable. so we can not able to remove Element or s from Tuple(This is possible in the list by using the \"POP\" or \"Remove\" Methods).\n",
    "2. if we do this will generate Error.\n",
    "3. AttributeError: 'tuple' object has no attribute 'pop'"
   ]
  },
  {
   "cell_type": "code",
   "execution_count": null,
   "id": "69d59710",
   "metadata": {},
   "outputs": [],
   "source": [
    "rep=(\"Hamid\",\"ALi\",\"ML,Al\")\n",
    "newrep=rep.pop()        #This will Generate the Error. the tuple has no Attribute like insert. \n",
    "print(newrep)"
   ]
  },
  {
   "cell_type": "markdown",
   "id": "0fa2b1cc",
   "metadata": {},
   "source": [
    "# Delete the whole Tuple:\n",
    "1. Delete the Whole Tuple is possible  by using the del method.\n",
    "2. This will also generate Error.\n",
    "3. NameError: name 'dele' is not defined."
   ]
  },
  {
   "cell_type": "code",
   "execution_count": null,
   "id": "88b06ef9",
   "metadata": {},
   "outputs": [],
   "source": [
    "dele=(1,2,3)\n",
    "del dele\n",
    "print(dele)"
   ]
  },
  {
   "cell_type": "markdown",
   "id": "f386af38",
   "metadata": {},
   "source": [
    "# Converting into the Tuple"
   ]
  },
  {
   "cell_type": "code",
   "execution_count": null,
   "id": "fcc28222",
   "metadata": {},
   "outputs": [],
   "source": [
    "string=\"Learning is great Fun\" #This is String.\n",
    "newborn=tuple(string) #this is converted into Tuple.\n",
    "print(type(string),string,type(newborn),newborn,sep=\"\\n\")\n"
   ]
  },
  {
   "cell_type": "markdown",
   "id": "3b7b3e37",
   "metadata": {},
   "source": [
    "# Split() Method\n",
    "1. Split() Method By Default return the list.\n",
    "2. After getting the list we type cast it into Tuple.\n",
    "3. Like Below."
   ]
  },
  {
   "cell_type": "code",
   "execution_count": null,
   "id": "5b7f7701",
   "metadata": {},
   "outputs": [],
   "source": [
    "str1=\"Learning Coding is Great Fun\"# This is String.\n",
    "tip=tuple(str1.split(\" \")) # Here we convert the string into List using the Split() Methods and \n",
    "# then we convert it into Tuple.\n",
    "print(type(tip),tip,sep=\"\\n\")"
   ]
  },
  {
   "cell_type": "code",
   "execution_count": null,
   "id": "ed718460",
   "metadata": {},
   "outputs": [],
   "source": [
    "str1=\"Learning Coding is Great Fun\"\n",
    "tip2=tuple(str1.split('i'))# Here we also convert the string like above as but now \n",
    "# we split on the base of Charactor.but there is only one contidition that the the charactor \n",
    "# your pick for split is inside the str.\n",
    "print(type(tip2),tip2,sep=\"\\n\")"
   ]
  },
  {
   "cell_type": "markdown",
   "id": "a29a996b",
   "metadata": {},
   "source": [
    "# \" \".Jion() Method\n",
    "1. \" \" is called the delimater it can be any charater or symbol. i.e. #,-,_ any\n",
    "2. \"#\".join(Tuple) it convert the Tuple into String(str)"
   ]
  },
  {
   "cell_type": "code",
   "execution_count": null,
   "id": "a4db3923",
   "metadata": {},
   "outputs": [],
   "source": [
    "jio=\" \".join(tip)\n",
    "print(type(jio),jio,sep=\"\\n\")\n",
    "\n",
    "jio=\"_\".join(tip)\n",
    "print(type(jio),jio,sep=\"\\n\")"
   ]
  },
  {
   "cell_type": "markdown",
   "id": "aa788407",
   "metadata": {},
   "source": [
    "# Misc Tuple Methods In Python.\n",
    "1. Tuple.index(value) :-->  2. Tuple.count(value) :--> 3.0 len(Tuple) :-->  3. max(tuple) :-->  4. min(tuple) :-->  5. sum(tuple):\n",
    "2. The Last Three Methods Work on the interge Tuple."
   ]
  },
  {
   "cell_type": "code",
   "execution_count": null,
   "id": "6ed1829b",
   "metadata": {},
   "outputs": [],
   "source": [
    "t1=(\"string\",\"H\",2,4,\"HHHHHHHHHHHHHHHHHHHHHHHHHHHHHHHHHHHHHH\")\n",
    "t2=t1.index(\"H\")\n",
    "t2"
   ]
  },
  {
   "cell_type": "code",
   "execution_count": null,
   "id": "c444fbe3",
   "metadata": {},
   "outputs": [],
   "source": [
    "t1=(\"string\",\"H\",\"H\",\"H\",\"H\",\"H\",\"H\",\"H\",\"H\",2,4,\"HHHHHHHHHHHHHHHHHHHHHHHHHHHHHHHHHHHHHH\")\n",
    "t2=t1.count(\"H\")\n",
    "t2"
   ]
  },
  {
   "cell_type": "code",
   "execution_count": null,
   "id": "b740a0dc",
   "metadata": {},
   "outputs": [],
   "source": [
    "t1=(\"string\",\"H\",\"H\",\"H\",\"H\",\"H\",\"H\",\"H\",\"H\",2,4,\"H\")\n",
    "t2=len(t1)\n",
    "t2"
   ]
  },
  {
   "cell_type": "code",
   "execution_count": null,
   "id": "0ac33ebd",
   "metadata": {},
   "outputs": [],
   "source": [
    "t1=(1,6,56,6,2,4)\n",
    "t2=min(t1)\n",
    "t2"
   ]
  },
  {
   "cell_type": "code",
   "execution_count": null,
   "id": "13f868f9",
   "metadata": {},
   "outputs": [],
   "source": [
    "t1=(1,6,56,6,2,4)\n",
    "t2=max(t1)\n",
    "t2"
   ]
  },
  {
   "cell_type": "code",
   "execution_count": null,
   "id": "9e887fb0",
   "metadata": {},
   "outputs": [],
   "source": [
    "t1=(1,6,56,6,2,4)\n",
    "t2=sum(t1)\n",
    "t2"
   ]
  },
  {
   "cell_type": "markdown",
   "id": "67f4773a",
   "metadata": {},
   "source": [
    "# in , Not in\n",
    "### Membership Operator \n",
    "1. Like list we can apply \"in\" and \"not in\" membership operator on Tuple.\n",
    "2. if \"in\"Operator has the give in the Tuple then they return True or other vise False.\n",
    "3. IN \"not in\" Operator work Oppisite to \"in\" operator.Means the \"not in\" return True when there is no given Value in the Tuple and vice versa."
   ]
  },
  {
   "cell_type": "code",
   "execution_count": null,
   "id": "e1aa9f88",
   "metadata": {},
   "outputs": [],
   "source": [
    "tup=(2,3,4,5,7,9)\n",
    "rv=8 in tup\n",
    "rv"
   ]
  },
  {
   "cell_type": "code",
   "execution_count": null,
   "id": "0145987a",
   "metadata": {},
   "outputs": [],
   "source": [
    "tup=(2,3,4,5,7,9)\n",
    "rv=8 not in tup\n",
    "rv"
   ]
  },
  {
   "cell_type": "code",
   "execution_count": null,
   "id": "f4bf6e19",
   "metadata": {},
   "outputs": [],
   "source": [
    "tup=(\"string\",\"String\",\"STRing\")\n",
    "rv=\"String\" in tup \n",
    "rv"
   ]
  },
  {
   "cell_type": "markdown",
   "id": "e2eff116",
   "metadata": {},
   "source": [
    "# Comparing Objects id() And Value =="
   ]
  },
  {
   "cell_type": "code",
   "execution_count": null,
   "id": "f8b0210f",
   "metadata": {},
   "outputs": [],
   "source": [
    "tup1=(3,1,3);tup2=(1,2,3)\n",
    "print(id(tup1)is id(tup2),tup1==tup2,sep=\"\\n\")"
   ]
  },
  {
   "cell_type": "code",
   "execution_count": null,
   "id": "db844d5d",
   "metadata": {},
   "outputs": [],
   "source": [
    "tup1=(1,2,3);tup2=(1,2,3)\n",
    "print(id(tup1)is id(tup2),tup1==tup2,sep=\"\\n\")"
   ]
  },
  {
   "cell_type": "markdown",
   "id": "b56f6c97",
   "metadata": {},
   "source": [
    "#  Sorting Tuple:\n",
    "1. the sort() Methods that work on the list did not work on the Tuple because it's immutable.\n",
    "2. To the Tuple we use the sorted() Methods sorted(iterable,key=none,reverse=false)\n",
    "3. The Sorted() Method is work Properly on the list and the Tuple and it return the sorted copy of the list and the original one remain same.\n",
    "4. The Sorted() Methods return the list by default."
   ]
  },
  {
   "cell_type": "code",
   "execution_count": 5,
   "id": "a0700657",
   "metadata": {},
   "outputs": [
    {
     "data": {
      "text/plain": [
       "([1, 2, 2, 3, 7, 30, 36], [36, 30, 7, 3, 2, 2, 1])"
      ]
     },
     "execution_count": 5,
     "metadata": {},
     "output_type": "execute_result"
    }
   ],
   "source": [
    "# Sorting Tuple with numeric.\n",
    "t1=(1,2,36,3,7,30,2)\n",
    "list1=sorted(t1)\n",
    "list2=sorted(t1,reverse=True)\n",
    "list1,list2"
   ]
  },
  {
   "cell_type": "code",
   "execution_count": 10,
   "id": "8ea00d1a",
   "metadata": {},
   "outputs": [
    {
     "data": {
      "text/plain": [
       "(['Alpha', 'Beta', 'Iterate', 'String'],\n",
       " ['String', 'Iterate', 'Beta', 'Alpha'],\n",
       " ['Iterate', 'String', 'Alpha', 'Beta'])"
      ]
     },
     "execution_count": 10,
     "metadata": {},
     "output_type": "execute_result"
    }
   ],
   "source": [
    "# Here WE Sorted() The Tuple with String data Type.\n",
    "t1=(\"String\",\"Alpha\",\"Beta\",\"Iterate\")\n",
    "list1=sorted(t1)\n",
    "list2=sorted(t1,reverse=True)\n",
    "list3=sorted(t1,reverse=True,key=len)\n",
    "list1,list2,list3"
   ]
  },
  {
   "cell_type": "markdown",
   "id": "b3cc6a28",
   "metadata": {},
   "source": [
    "# Sort the Tuple on BAse of Last Element of the STring. key=last"
   ]
  },
  {
   "cell_type": "code",
   "execution_count": 14,
   "id": "3f329dd1",
   "metadata": {},
   "outputs": [
    {
     "data": {
      "text/plain": [
       "(['Adam', 'Alpha', 'Beta', 'Iterate', 'String'],\n",
       " ['String', 'Iterate', 'Beta', 'Alpha', 'Adam'],\n",
       " ['Alpha', 'Beta', 'Iterate', 'String', 'Adam'])"
      ]
     },
     "execution_count": 14,
     "metadata": {},
     "output_type": "execute_result"
    }
   ],
   "source": [
    "# Here WE Sorted() The Tuple with String data Type.\n",
    "def last(s):\n",
    "    return s[::-1]\n",
    "t1=(\"String\",\"Alpha\",\"Beta\",\"Iterate\",\"Adam\")\n",
    "list1=sorted(t1)\n",
    "list2=sorted(t1,reverse=True)\n",
    "list3=sorted(t1,key=last)\n",
    "list1,list2,list3"
   ]
  },
  {
   "cell_type": "code",
   "execution_count": null,
   "id": "778de517",
   "metadata": {},
   "outputs": [],
   "source": []
  },
  {
   "cell_type": "code",
   "execution_count": null,
   "id": "397c9edc",
   "metadata": {},
   "outputs": [],
   "source": []
  },
  {
   "cell_type": "code",
   "execution_count": null,
   "id": "65b639ba",
   "metadata": {},
   "outputs": [],
   "source": []
  },
  {
   "cell_type": "code",
   "execution_count": null,
   "id": "50fda5e3",
   "metadata": {},
   "outputs": [],
   "source": []
  },
  {
   "cell_type": "code",
   "execution_count": null,
   "id": "3bee98d4",
   "metadata": {},
   "outputs": [],
   "source": []
  },
  {
   "cell_type": "code",
   "execution_count": null,
   "id": "077bb253",
   "metadata": {},
   "outputs": [],
   "source": []
  },
  {
   "cell_type": "code",
   "execution_count": null,
   "id": "a0fc290d",
   "metadata": {},
   "outputs": [],
   "source": []
  },
  {
   "cell_type": "code",
   "execution_count": null,
   "id": "d61fe420",
   "metadata": {},
   "outputs": [],
   "source": []
  },
  {
   "cell_type": "code",
   "execution_count": null,
   "id": "4b7e7f59",
   "metadata": {},
   "outputs": [],
   "source": []
  },
  {
   "cell_type": "code",
   "execution_count": null,
   "id": "d77c5ba8",
   "metadata": {},
   "outputs": [],
   "source": []
  },
  {
   "cell_type": "code",
   "execution_count": null,
   "id": "e8b4caec",
   "metadata": {},
   "outputs": [],
   "source": []
  },
  {
   "cell_type": "code",
   "execution_count": null,
   "id": "672f0691",
   "metadata": {},
   "outputs": [],
   "source": []
  }
 ],
 "metadata": {
  "kernelspec": {
   "display_name": "Python 3 (ipykernel)",
   "language": "python",
   "name": "python3"
  },
  "language_info": {
   "codemirror_mode": {
    "name": "ipython",
    "version": 3
   },
   "file_extension": ".py",
   "mimetype": "text/x-python",
   "name": "python",
   "nbconvert_exporter": "python",
   "pygments_lexer": "ipython3",
   "version": "3.8.10"
  }
 },
 "nbformat": 4,
 "nbformat_minor": 5
}
