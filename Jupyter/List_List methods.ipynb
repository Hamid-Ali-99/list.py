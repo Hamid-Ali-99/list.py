{
 "cells": [
  {
   "cell_type": "code",
   "execution_count": null,
   "id": "172dc80b",
   "metadata": {},
   "outputs": [],
   "source": [
    "print(\"Learning the Coding is great Fun:  \")"
   ]
  },
  {
   "cell_type": "code",
   "execution_count": null,
   "id": "29c4eebb",
   "metadata": {},
   "outputs": [],
   "source": [
    "help(list)"
   ]
  },
  {
   "cell_type": "code",
   "execution_count": null,
   "id": "d9062e47",
   "metadata": {},
   "outputs": [],
   "source": [
    "list1=[1,2,3,4,5]#list of the integar\n",
    "list2=[1.0,2.0,3.3]#list of the floats.\n",
    "list3=[True,False,True]#list of the boolean.\n",
    "list4=[]#empty list\n",
    "print(list1,list2,list3,list4);\n",
    "print(type(list1));"
   ]
  },
  {
   "cell_type": "code",
   "execution_count": null,
   "id": "7a2929f8",
   "metadata": {},
   "outputs": [],
   "source": [
    "list=[\"Hamid\",True,\"Ali\",[1,\"false\"]]# here we have the nested list inside the list.\n",
    "print(list)"
   ]
  },
  {
   "cell_type": "code",
   "execution_count": null,
   "id": "a09dba4a",
   "metadata": {},
   "outputs": [],
   "source": [
    "list1=[1,2,3,4,5]#list of the integar\n",
    "list2=[1.0,2.0,3.3]#list of the floats.\n",
    "list3=[True,False,True]#list of the boolean.\n",
    "list4=[]#empty list\n",
    "print(list1,list2,list3,list4, sep=\"\\n\");# here the sep=separator has the value (new line)"
   ]
  },
  {
   "cell_type": "markdown",
   "id": "e1fd813d",
   "metadata": {},
   "source": [
    "### The list is the ordered means every Element is associated by an index.\n",
    "### "
   ]
  },
  {
   "cell_type": "code",
   "execution_count": null,
   "id": "1c55acc4",
   "metadata": {},
   "outputs": [],
   "source": [
    "list1=[1,2,3]\n",
    "list2=[1,2,3]\n",
    "print(id(list),id(list2),list1 is list2, list1==list2, sep=\"\\n\");### here the is compare the momery address and \n",
    "# the == check equlity.\n"
   ]
  },
  {
   "cell_type": "code",
   "execution_count": null,
   "id": "d44e91e6",
   "metadata": {},
   "outputs": [],
   "source": [
    "list1=[3,1,2]\n",
    "list2=[1,2,3]\n",
    "print(id(list),id(list2),list1 is list2, list1==list2, sep=\"\\n\");"
   ]
  },
  {
   "cell_type": "markdown",
   "id": "a8d4cc3b",
   "metadata": {},
   "source": [
    "### List are hetrogeneous\n",
    "#### List are hetrogeneous, are there elements /items of any data type. "
   ]
  },
  {
   "cell_type": "code",
   "execution_count": null,
   "id": "ae6e0b8a",
   "metadata": {},
   "outputs": [],
   "source": [
    "list1=[\"arif\",20,20.5]\n",
    "print(\"list1 : \",list1)"
   ]
  },
  {
   "cell_type": "markdown",
   "id": "f50a85f3",
   "metadata": {},
   "source": [
    "%%html\n",
    "<h3>list are mutables</h3>\n",
    "<p>the items or the Elements in the list we can change them as our need.</p>"
   ]
  },
  {
   "cell_type": "code",
   "execution_count": null,
   "id": "e9ad4c20",
   "metadata": {},
   "outputs": [],
   "source": [
    "list=[23,25,33,54,65]\n",
    "list[2]=908\n",
    "print(\"list : \",list)"
   ]
  },
  {
   "cell_type": "markdown",
   "id": "f0f82717",
   "metadata": {},
   "source": [
    "### Lists has the dupicates Elements.\n",
    "###### list Allow duplicates Elements"
   ]
  },
  {
   "cell_type": "code",
   "execution_count": null,
   "id": "919e4cc1",
   "metadata": {},
   "outputs": [],
   "source": [
    "list=[\"atif\",\"hamid\",\"Ali\",\"Ali\"]\n",
    "print(\"list : \",list)"
   ]
  },
  {
   "cell_type": "code",
   "execution_count": null,
   "id": "c3b2f7f1",
   "metadata": {},
   "outputs": [],
   "source": [
    "#list has the nested list inside list\n",
    "list=[\"a\",\"b\",[\"c\",\"d\"],\"e\",\"f\"];\n",
    "list1=[\"c\",[\"d\",\"s\"],\"d\",[\"d\",\"g\"]]\n",
    "list,list1"
   ]
  },
  {
   "cell_type": "markdown",
   "id": "4b93d838",
   "metadata": {},
   "source": [
    "### Packing and Unpacking of list"
   ]
  },
  {
   "cell_type": "code",
   "execution_count": null,
   "id": "24b07b57",
   "metadata": {},
   "outputs": [],
   "source": [
    "list=[\"a\",\"b\",\"c\",\"d\"]\n",
    "a,b,c,d=list\n",
    "print(f\"a : {a}, b : {b}, c : {c}, d : {d}\")"
   ]
  },
  {
   "cell_type": "code",
   "execution_count": null,
   "id": "34e27a6e",
   "metadata": {},
   "outputs": [],
   "source": [
    "tuple1=a,b,c,d\n",
    "list1=list(tuple1)\n",
    "print(\"list1 : \",list1)"
   ]
  },
  {
   "cell_type": "markdown",
   "id": "41aac7e5",
   "metadata": {},
   "source": [
    "## Accessing Element in the list.\n",
    "##### list is of type sequences  and any Element in the type sequence can be accessed by entering the index in the square brakets.so natually this work for also list"
   ]
  },
  {
   "cell_type": "code",
   "execution_count": null,
   "id": "ad3ff7e0",
   "metadata": {},
   "outputs": [],
   "source": [
    "list=[\"arif\",1,2,[1,2]]\n",
    "#Accessing Nested List Elements.\n",
    "\n",
    "print(list[3][1])#the first index show the main list index and the second index show the nested list index .\n",
    "#Accessing Last Elements from the nested list.\n",
    "\n",
    "print(list[3][0])#the first index show the main list index and the second index show the nested list index .\n",
    "#Accessing the first Element of the nested list"
   ]
  },
  {
   "cell_type": "code",
   "execution_count": null,
   "id": "97fd3cd7",
   "metadata": {},
   "outputs": [],
   "source": [
    "list=[\"arif\",1,2,[1,2]]\n",
    "print(list[-1])# Accessing the last elements of the list through the negative index.\n",
    "print(list[-2])#Accessing the second last index of the list."
   ]
  },
  {
   "cell_type": "code",
   "execution_count": null,
   "id": "0db7530a",
   "metadata": {},
   "outputs": [],
   "source": [
    "mylist=[\"arif\",1,2,[1,2],\"Hamid_Ali\"]\n",
    "print(mylist)\n",
    "mylist.index('Hamid_Ali')"
   ]
  },
  {
   "cell_type": "markdown",
   "id": "b42087a4",
   "metadata": {},
   "source": [
    "## Slicing List\n",
    "###### mylist[start:stop:step]"
   ]
  },
  {
   "cell_type": "code",
   "execution_count": null,
   "id": "48b439ab",
   "metadata": {},
   "outputs": [],
   "source": [
    "listsl=[\"1\",23,3,5,6]\n",
    "listsl"
   ]
  },
  {
   "cell_type": "code",
   "execution_count": null,
   "id": "c03d30da",
   "metadata": {},
   "outputs": [],
   "source": [
    "listsl[::]"
   ]
  },
  {
   "cell_type": "code",
   "execution_count": null,
   "id": "5a5e3fbe",
   "metadata": {},
   "outputs": [],
   "source": [
    "listsl[3:]"
   ]
  },
  {
   "cell_type": "code",
   "execution_count": null,
   "id": "bebc7a4b",
   "metadata": {},
   "outputs": [],
   "source": [
    "listsl[:5]#start at 0 and end at index before 5. 5 not print."
   ]
  },
  {
   "cell_type": "code",
   "execution_count": null,
   "id": "bbb78724",
   "metadata": {},
   "outputs": [],
   "source": [
    "listsl[2:4]# start from 2 and end at the 4. 4 is not inside it."
   ]
  },
  {
   "cell_type": "code",
   "execution_count": null,
   "id": "9c292987",
   "metadata": {},
   "outputs": [],
   "source": [
    "listsl[:-2] # start from the index 0 and end at -2"
   ]
  },
  {
   "cell_type": "code",
   "execution_count": null,
   "id": "3d2aadbe",
   "metadata": {},
   "outputs": [],
   "source": [
    "listsl[:-1]#start form the index 0 and end at the -1 index."
   ]
  },
  {
   "cell_type": "code",
   "execution_count": null,
   "id": "7de8492e",
   "metadata": {},
   "outputs": [],
   "source": [
    "listsl[-1]#just pront last index"
   ]
  },
  {
   "cell_type": "markdown",
   "id": "c3ad9bb4",
   "metadata": {},
   "source": [
    "### slicing using strides\n",
    "##### mean Steps."
   ]
  },
  {
   "cell_type": "code",
   "execution_count": null,
   "id": "4f3392f6",
   "metadata": {},
   "outputs": [],
   "source": [
    "listsl[::]#default step is one(1)"
   ]
  },
  {
   "cell_type": "code",
   "execution_count": null,
   "id": "19e2c99e",
   "metadata": {},
   "outputs": [],
   "source": [
    "listsl[::2]# step 2"
   ]
  },
  {
   "cell_type": "code",
   "execution_count": null,
   "id": "57cb725a",
   "metadata": {},
   "outputs": [],
   "source": [
    "listsl[::3]#step 3"
   ]
  },
  {
   "cell_type": "markdown",
   "id": "9193e369",
   "metadata": {},
   "source": [
    "### Reverse the List\n",
    "##### means Reverse Slicing"
   ]
  },
  {
   "cell_type": "code",
   "execution_count": null,
   "id": "5d36a149",
   "metadata": {},
   "outputs": [],
   "source": [
    "listsl[::-1]"
   ]
  },
  {
   "cell_type": "code",
   "execution_count": null,
   "id": "54abc93d",
   "metadata": {},
   "outputs": [],
   "source": [
    "listsl[5:1:-1]"
   ]
  },
  {
   "cell_type": "code",
   "execution_count": null,
   "id": "811f0b1e",
   "metadata": {},
   "outputs": [],
   "source": [
    "listsl[2:10:-1]"
   ]
  },
  {
   "cell_type": "code",
   "execution_count": null,
   "id": "d36b0686",
   "metadata": {},
   "outputs": [],
   "source": [
    "listsl[::-2]"
   ]
  },
  {
   "cell_type": "markdown",
   "id": "32584db3",
   "metadata": {},
   "source": [
    "### Concatination a List (+) using the puls operator"
   ]
  },
  {
   "cell_type": "code",
   "execution_count": null,
   "id": "b70c09e9",
   "metadata": {},
   "outputs": [],
   "source": [
    "list1=[1,2,3]\n",
    "list2=list1+[4,5,6]\n",
    "list3=list1+list2\n",
    "list3"
   ]
  },
  {
   "cell_type": "code",
   "execution_count": null,
   "id": "607bd9b1",
   "metadata": {},
   "outputs": [],
   "source": [
    "food_items=[\"burger\",\"chill\",\"noodles\"]\n",
    "food_items2=[\"fruits\",\"lemon\",\"orange\"]\n",
    "food=food_items+food_items2\n",
    "print(food)"
   ]
  },
  {
   "cell_type": "code",
   "execution_count": null,
   "id": "e2846f4d",
   "metadata": {},
   "outputs": [],
   "source": [
    "# WE can concatinate the two hettrogeneous list\n",
    "a=[1,True,\"hello\"];b=[\"qeu\",2,False]\n",
    "listss=a+b\n",
    "print(listss)"
   ]
  },
  {
   "cell_type": "code",
   "execution_count": null,
   "id": "fbefce2c",
   "metadata": {},
   "outputs": [],
   "source": [
    "nums=[1,2,3,4]\n",
    "nums1=[5,6,[7,8]]\n",
    "print(nums+nums1)"
   ]
  },
  {
   "cell_type": "markdown",
   "id": "0b18440a",
   "metadata": {},
   "source": [
    "### Replicated or repeated list\n",
    "<ul><li>like string * operator can repilacte the list in to multiple times</li></ul>"
   ]
  },
  {
   "cell_type": "code",
   "execution_count": null,
   "id": "c7771885",
   "metadata": {},
   "outputs": [],
   "source": [
    "alpha=[\"a\",\"b\",\"c\"]\n",
    "beta=alpha*12\n",
    "print(f\"beta No: {beta}\", sep=\"\\n\")"
   ]
  },
  {
   "cell_type": "code",
   "execution_count": null,
   "id": "798abea8",
   "metadata": {},
   "outputs": [],
   "source": [
    "apha=[\"a\"]\n",
    "bur=apha*100\n",
    "print(\" \", bur ,\" \")"
   ]
  },
  {
   "cell_type": "markdown",
   "id": "c19d46f5",
   "metadata": {},
   "source": [
    "### Modifying/Adding Elements to a list using [ ] operator."
   ]
  },
  {
   "cell_type": "code",
   "execution_count": null,
   "id": "ad7ca2b2",
   "metadata": {},
   "outputs": [],
   "source": [
    "list=[\"Learning\", \"Coding\",\"is\",\"great\",\"fun\"]# it modify the original list unlass to create the sublist\n",
    "list[0]=\"Machine Learning\"\n",
    "print(list)"
   ]
  },
  {
   "cell_type": "markdown",
   "id": "1442e638",
   "metadata": {},
   "source": [
    "### we can use the slicing to modify the list "
   ]
  },
  {
   "cell_type": "code",
   "execution_count": null,
   "id": "1b52399c",
   "metadata": {},
   "outputs": [],
   "source": [
    "#as the given below.\n",
    "list=[\"data Structure\",\"web Development\",1,2]\n",
    "list[0:2]=[\"deep learning\",\"Machines Learning\"]# as we know the slicing leave the last number or index.\n",
    "#here we are replacing two elements with two elements\n",
    "print(list)"
   ]
  },
  {
   "cell_type": "code",
   "execution_count": null,
   "id": "4e3370ff",
   "metadata": {},
   "outputs": [],
   "source": [
    "#as the given below.\n",
    "list=[\"data Structure\",\"web Development\",1,2]\n",
    "list[0:2]=[\"deep learning\"]# as we know the slicing leave the last number or index.\n",
    "#here we are replacing two elements with one elements\n",
    "print(list)"
   ]
  },
  {
   "cell_type": "code",
   "execution_count": null,
   "id": "78791c08",
   "metadata": {},
   "outputs": [],
   "source": [
    "#as the given below.here we use the index\n",
    "list=[\"data Structure\",\"web Development\",1,2]\n",
    "list[0]=[\"deep learning\",\"Machine Learning\"]# as we know the slicing leave the last number or index.\n",
    "#here we are replacing one elements with two elements\n",
    "print(list)"
   ]
  },
  {
   "cell_type": "code",
   "execution_count": null,
   "id": "2ede71e2",
   "metadata": {},
   "outputs": [],
   "source": [
    "#as the given below.here we use the slicing\n",
    "list=[\"data Structure\",\"web Development\",1,2]\n",
    "list[0:1]=[\"deep learning\",\"Machine Learning\"]# as we know the slicing leave the last number or index.\n",
    "#here we are replacing one elements with two elements\n",
    "print(list)"
   ]
  },
  {
   "cell_type": "markdown",
   "id": "f079d9e1",
   "metadata": {},
   "source": [
    "### list.append () #this will add at the last of the list a item."
   ]
  },
  {
   "cell_type": "code",
   "execution_count": null,
   "id": "5d035736",
   "metadata": {},
   "outputs": [],
   "source": [
    "liat=[1,2,3,4]\n",
    "liat.append(\"hello\");liat.append(4.54)\n",
    "liat"
   ]
  },
  {
   "cell_type": "code",
   "execution_count": null,
   "id": "ce981f85",
   "metadata": {},
   "outputs": [],
   "source": [
    "# we can not append multiple items at the same time. if (we do): they will add them as the sub_list\n",
    "list=[1,2,3,4]\n",
    "list.append([\"hello\",\"Bye\"])\n",
    "list"
   ]
  },
  {
   "cell_type": "markdown",
   "id": "34cb9188",
   "metadata": {},
   "source": [
    "<h3>Extend() method is used when we like to add multiple items at the end of the list.it is passed the list to be added at the end and return void/none.<h3>"
   ]
  },
  {
   "cell_type": "code",
   "execution_count": null,
   "id": "8eecc179",
   "metadata": {},
   "outputs": [],
   "source": [
    "# it add the sublist as the indiual elements at the end of the list.\n",
    "list=[1,2,3,4]\n",
    "list.extend([5,\"hello\"])\n",
    "list"
   ]
  },
  {
   "cell_type": "code",
   "execution_count": null,
   "id": "71cd06ee",
   "metadata": {},
   "outputs": [],
   "source": [
    "#extend an other examples\n",
    "fruits=[\"oranges\",\"apples\",\"melon\"]\n",
    "vegs=[\"carits\",\"tomato\",\"lady finges\"]\n",
    "fruits.extend(vegs)\n",
    "fruits"
   ]
  },
  {
   "cell_type": "markdown",
   "id": "5c8b8b2e",
   "metadata": {},
   "source": [
    "<p>when you wents to add item at the specificate location then we use the <strong> list.insert() method.</strong></p>"
   ]
  },
  {
   "cell_type": "code",
   "execution_count": null,
   "id": "7b937045",
   "metadata": {},
   "outputs": [],
   "source": [
    "family=[\"me\",\"myself\",\"my....\"]\n",
    "print(family)\n",
    "family.insert(2,\"Hamid Ali\")\n",
    "print(family)"
   ]
  },
  {
   "cell_type": "code",
   "execution_count": null,
   "id": "5e4d0f63",
   "metadata": {},
   "outputs": [],
   "source": [
    "# we can add sublist using the insert() method.\n",
    "family.insert(2,[\"Hamid Ali\",\"Coding\"])\n",
    "print(family)"
   ]
  },
  {
   "cell_type": "markdown",
   "id": "e3d1c031",
   "metadata": {},
   "source": [
    "<h2>we can Remove the Elements from the list using <q> list.pop() </q> and <q> list.remove() </q> Methods</h2>"
   ]
  },
  {
   "cell_type": "code",
   "execution_count": null,
   "id": "ebd46f80",
   "metadata": {},
   "outputs": [],
   "source": [
    "# the pop() just remove the last element or item.\n",
    "family.pop()\n",
    "# it \"my....\"\n",
    "print(family)"
   ]
  },
  {
   "cell_type": "code",
   "execution_count": null,
   "id": "28649484",
   "metadata": {},
   "outputs": [],
   "source": [
    "#if we provide any index then it remove that element from that index.\n",
    "result=family.pop(2)\n",
    "print(family);print(\"It remove That : \",result)"
   ]
  },
  {
   "cell_type": "code",
   "execution_count": null,
   "id": "c8341f1b",
   "metadata": {},
   "outputs": [],
   "source": [
    "#this will return us the maximum from the list this only work on the nummaric datatypes.\n",
    "str=[3,4,5,6,7,8,1,2]\n",
    "print(max(str))"
   ]
  },
  {
   "cell_type": "code",
   "execution_count": null,
   "id": "4b8b26d0",
   "metadata": {},
   "outputs": [],
   "source": [
    "#this return us the minimum from the list and only work on interger and float datatypes.\n",
    "print(min(str))"
   ]
  },
  {
   "cell_type": "code",
   "execution_count": null,
   "id": "845134bb",
   "metadata": {},
   "outputs": [],
   "source": [
    "#this will return us the sum of the list and this only work on the nummeric datatypes.\n",
    "print(sum(str))"
   ]
  },
  {
   "cell_type": "code",
   "execution_count": null,
   "id": "a1135553",
   "metadata": {},
   "outputs": [],
   "source": [
    "#this work on the every datatypes list and this return us the total no. of elements start from zero to so on.\n",
    "print(len(str))"
   ]
  },
  {
   "cell_type": "markdown",
   "id": "23cc60c8",
   "metadata": {},
   "source": [
    "## Simple Assignment (aliasing) vs Shallow copy vs Deep Copy.\n",
    "#### Aliasing: Making Alias of a list object using simple Assignment = operator.\n",
    "###### it dosnot create a new object, that shares references of the original object."
   ]
  },
  {
   "cell_type": "code",
   "execution_count": null,
   "id": "02b7e6b6",
   "metadata": {},
   "outputs": [],
   "source": [
    "# Aliasing\n",
    "list=[1,2,3,4,5]\n",
    "list1=list;\n",
    "# so both has the same id or address of the memory.\n",
    "print(\"list  : \",id(list))\n",
    "print(\"list1 : \",id(list1))"
   ]
  },
  {
   "cell_type": "code",
   "execution_count": null,
   "id": "ff254daa",
   "metadata": {},
   "outputs": [],
   "source": [
    "# if we change the one list so the changes appear on both. as below.\n",
    "list1[2]=9;\n",
    "print(list,list1)"
   ]
  },
  {
   "cell_type": "code",
   "execution_count": null,
   "id": "cff1d343",
   "metadata": {},
   "outputs": [],
   "source": [
    "list=[1,2,3,4,5]\n",
    "# here we use the shallow copy method to both has the different memory address. using the \"slicing\".\n",
    "list1=list[:];\n",
    "print(\"list  : \",id(list))\n",
    "print(\"list1 : \",id(list1))"
   ]
  },
  {
   "cell_type": "code",
   "execution_count": null,
   "id": "ecfa714a",
   "metadata": {},
   "outputs": [],
   "source": [
    "# in shallow copy changes appear on the changed list not on boths lists.\n",
    "list1[2]=9;\n",
    "print(list,list1)"
   ]
  },
  {
   "cell_type": "code",
   "execution_count": null,
   "id": "2229dafa",
   "metadata": {},
   "outputs": [],
   "source": [
    "list=[1,2,3,4,5]\n",
    "# here we use the shallow copy method to both has the different memory address. using the \"list.copy\" and \n",
    "# the limitations of the shallow copy is if we change one it change the other also.\n",
    "# in simple list they work absolute fine. in nested list shallow copy do'not work.\n",
    "list1=list.copy()\n",
    "\n",
    "print(\"list  : \",id(list))\n",
    "print(\"list1 : \",id(list1))"
   ]
  },
  {
   "cell_type": "code",
   "execution_count": null,
   "id": "41fe4409",
   "metadata": {},
   "outputs": [],
   "source": [
    "list1[2]=1\n",
    "list,list1"
   ]
  },
  {
   "cell_type": "code",
   "execution_count": null,
   "id": "a7db131e",
   "metadata": {},
   "outputs": [],
   "source": [
    "list0=[[1,2,3,4],[1,2,3,4,5],[1,2,3,4,5]]\n",
    "# here we use the shallow copy method to both has the different memory address. using the \"list.copy\" and \n",
    "# the limitations of the shallow copy is if we change one it change the other also.\n",
    "# in simple list they work absolute fine. in nested list shallow copy do'not work.\n",
    "print(list0)\n",
    "list11=list.copy()\n",
    "list11[2][2]=9\n",
    "print(list0)\n",
    "print(list11)\n"
   ]
  },
  {
   "cell_type": "markdown",
   "id": "3f56f432",
   "metadata": {},
   "source": [
    "## Deep Copy: copy.deepcopy()\n",
    "### A deep copy of a list is to create a new list and then recursively insert in it the copies of the original list’s elements. It refers to cloning a list, and any changes made in the original list do not affect the cloned list."
   ]
  },
  {
   "cell_type": "code",
   "execution_count": null,
   "id": "4f63e726",
   "metadata": {},
   "outputs": [],
   "source": [
    "list0=[[1,2,3,4],[1,2,3,4,5],[1,2,3,4,5]]\n",
    "# here we use the shallow copy method to both has the different memory address. using the \"list.copy\" and \n",
    "# the limitations of the shallow copy is if we change one it change the other also.\n",
    "# in simple list they work absolute fine. in nested list shallow copy do'not work.\n",
    "print(list0)\n",
    "# B = copy.deepcopy(A)\n",
    "list11=copy.deepcopy(list0)\n",
    "list11[2][2]=9\n",
    "print(list0)\n",
    "print(list11)"
   ]
  },
  {
   "cell_type": "markdown",
   "id": "d48d509d",
   "metadata": {},
   "source": [
    "## Sort(),reverse(),Sorted(iteratable)\n"
   ]
  },
  {
   "cell_type": "code",
   "execution_count": 2,
   "id": "044acb84",
   "metadata": {},
   "outputs": [
    {
     "name": "stdout",
     "output_type": "stream",
     "text": [
      "[1, 2, 4, 6, 25]\n"
     ]
    }
   ],
   "source": [
    "# By default the sort() method sort the list in the ascending order like 1,2,3,4,5.... and \n",
    "# reverse() methid is default false.\n",
    "sort=[1,4,25,6,2]\n",
    "sort.sort()\n",
    "print(sort)"
   ]
  },
  {
   "cell_type": "code",
   "execution_count": 4,
   "id": "8f094295",
   "metadata": {},
   "outputs": [
    {
     "name": "stdout",
     "output_type": "stream",
     "text": [
      "[25, 6, 4, 2, 1]\n"
     ]
    }
   ],
   "source": [
    "# now sort the list in the descending order.\n",
    "sort.sort(reverse=True)\n",
    "print(sort)"
   ]
  },
  {
   "cell_type": "code",
   "execution_count": 6,
   "id": "fc60fd35",
   "metadata": {},
   "outputs": [
    {
     "name": "stdout",
     "output_type": "stream",
     "text": [
      "['Aqbal', 'Boot', 'XYZ', 'alpha', 'bus', 'hamid ali', 'xyz']\n"
     ]
    }
   ],
   "source": [
    "# the list sort() methods the list of alphabates on the base of the ascII value capital has low they \n",
    "# place first and so on. small .....,/.\n",
    "alpha=[\"xyz\",\"XYZ\",\"Aqbal\",\"alpha\",\"bus\",\"hamid ali\",\"Boot\"]\n",
    "alpha.sort()\n",
    "print(alpha)"
   ]
  },
  {
   "cell_type": "markdown",
   "id": "9151df0d",
   "metadata": {},
   "source": [
    "## if we like to sort the list on the base of the lenght of the list the small the lenght the first the item come and the large the list item lenght last the item come. like as the.\n",
    "### a=[\"aaaaa\",\"v\",\"bb\",\"ccc\"] \n",
    "### after a.sort() and the output is,\n",
    "### [\"v\",\"bb\",\"ccc\",\"aaaaa\"]"
   ]
  },
  {
   "cell_type": "code",
   "execution_count": 7,
   "id": "bf56cac3",
   "metadata": {},
   "outputs": [
    {
     "name": "stdout",
     "output_type": "stream",
     "text": [
      "['aaaaa', 'bb', 'ccc', 'v']\n"
     ]
    }
   ],
   "source": [
    "a=[\"aaaaa\",\"v\",\"bb\",\"ccc\"] \n",
    "a.sort()\n",
    "print(a)"
   ]
  },
  {
   "cell_type": "code",
   "execution_count": 8,
   "id": "52ff5501",
   "metadata": {},
   "outputs": [
    {
     "name": "stdout",
     "output_type": "stream",
     "text": [
      "['v', 'bb', 'ccc', 'aaaaa']\n"
     ]
    }
   ],
   "source": [
    "# here we apply the len funtion that is build in the python.\n",
    "a.sort(key=len)\n",
    "print(a)"
   ]
  },
  {
   "cell_type": "markdown",
   "id": "99c62a79",
   "metadata": {},
   "source": [
    "### Now sort the list on base of the last charactor.\n"
   ]
  },
  {
   "cell_type": "code",
   "execution_count": 11,
   "id": "babd1f31",
   "metadata": {},
   "outputs": [
    {
     "data": {
      "text/plain": [
       "['XYZ', 'xyza', 'Hamid', 'arif', 'ali']"
      ]
     },
     "execution_count": 11,
     "metadata": {},
     "output_type": "execute_result"
    }
   ],
   "source": [
    "# Here we sort the list on base of the last Elements.\n",
    "def last(s):\n",
    "    return s[-1]\n",
    "list2=[\"arif\",\"ali\",\"Hamid\",\"xyza\",\"XYZ\"]\n",
    "list2.sort(key=last)\n",
    "list2"
   ]
  },
  {
   "cell_type": "code",
   "execution_count": null,
   "id": "196c523e",
   "metadata": {},
   "outputs": [],
   "source": []
  },
  {
   "cell_type": "code",
   "execution_count": null,
   "id": "7c2d343f",
   "metadata": {},
   "outputs": [],
   "source": []
  },
  {
   "cell_type": "code",
   "execution_count": null,
   "id": "0f91059b",
   "metadata": {},
   "outputs": [],
   "source": []
  },
  {
   "cell_type": "code",
   "execution_count": null,
   "id": "aca0e426",
   "metadata": {},
   "outputs": [],
   "source": []
  }
 ],
 "metadata": {
  "kernelspec": {
   "display_name": "Python 3 (ipykernel)",
   "language": "python",
   "name": "python3"
  },
  "language_info": {
   "codemirror_mode": {
    "name": "ipython",
    "version": 3
   },
   "file_extension": ".py",
   "mimetype": "text/x-python",
   "name": "python",
   "nbconvert_exporter": "python",
   "pygments_lexer": "ipython3",
   "version": "3.8.10"
  }
 },
 "nbformat": 4,
 "nbformat_minor": 5
}
