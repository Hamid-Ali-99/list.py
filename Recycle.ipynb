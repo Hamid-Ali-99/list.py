{
 "cells": [
  {
   "cell_type": "code",
   "execution_count": 1,
   "id": "436ea444",
   "metadata": {
    "scrolled": true
   },
   "outputs": [
    {
     "data": {
      "text/plain": [
       "'Learning'"
      ]
     },
     "execution_count": 1,
     "metadata": {},
     "output_type": "execute_result"
    }
   ],
   "source": [
    "str=\"Learning Coding is the great Fun.\"\n",
    "str[0:8]"
   ]
  },
  {
   "cell_type": "code",
   "execution_count": null,
   "id": "0267dd16",
   "metadata": {},
   "outputs": [],
   "source": [
    "str=\"Learning Coding is the great Fun.\"\n",
    "str[::-1]"
   ]
  },
  {
   "cell_type": "code",
   "execution_count": 3,
   "id": "61bc919a",
   "metadata": {},
   "outputs": [
    {
     "data": {
      "text/plain": [
       "'.nuF taer'"
      ]
     },
     "execution_count": 3,
     "metadata": {},
     "output_type": "execute_result"
    }
   ],
   "source": [
    "str=\"Learning Coding is the great Fun.\"\n",
    "str[-1:-10:-1]"
   ]
  },
  {
   "cell_type": "code",
   "execution_count": 5,
   "id": "6a517c7c",
   "metadata": {},
   "outputs": [
    {
     "data": {
      "text/plain": [
       "'doog'"
      ]
     },
     "execution_count": 5,
     "metadata": {},
     "output_type": "execute_result"
    }
   ],
   "source": [
    "str=\"arfa is a good girl\"\n",
    "str[-6:-10:-1]"
   ]
  },
  {
   "cell_type": "code",
   "execution_count": 15,
   "id": "81d6d016",
   "metadata": {},
   "outputs": [
    {
     "name": "stdout",
     "output_type": "stream",
     "text": [
      "69.6\n",
      "68\n",
      "72\n"
     ]
    }
   ],
   "source": [
    "#Lists inside of dictionaries\n",
    "#Your gonna see lots of lists inside dictionaries and dictionaries inside lists. \n",
    "#This can get kind of crazy but stick with me. \n",
    "\n",
    "animal_sounds = {\n",
    "\n",
    "   \"cat\": [\"meow\", \"purr\"],\n",
    "\n",
    "   \"dog\": [\"woof\", \"bark\"],\n",
    "\n",
    "   \"fox\": []\n",
    "\n",
    "}\n",
    "\n",
    "# We can do this for users as well. \n",
    "\n",
    "mattan = {'name': 'Mattan', 'height': 12*5.8, 'shoe size': 10.5, 'hair': 'Brown', 'eyes': 'Brown'}\n",
    "\n",
    "chris = {'name': 'Chris', 'height': 68, 'shoe size': 10, 'hair': 'Brown', 'eyes': 'Brown'}\n",
    "\n",
    "sarah = {'name': 'Sarah', 'height': 72, 'shoe size': 8, 'hair': 'Brown', 'eyes': 'Brown'}\n",
    "people=[mattan,chris,sarah]\n",
    "# print(people[\"height\"])\n",
    "for person in people:\n",
    "    print(person.get(\"height\"))\n"
   ]
  },
  {
   "cell_type": "code",
   "execution_count": 21,
   "id": "13d47839",
   "metadata": {},
   "outputs": [
    {
     "name": "stdout",
     "output_type": "stream",
     "text": [
      "69.6\n",
      "67.19999999999999\n",
      "72\n"
     ]
    }
   ],
   "source": [
    "hamid={\"name\":\"Hamid\",\"height\":12*5.8,\"shoe size\":10,\"hair\":\"brown\"}\n",
    "hamid1={\"name\":\"Hamid\",\"height\":12*5.6,\"shoe size\":10,\"hair\":\"brown\"}\n",
    "hamid2={\"name\":\"Hamid\",\"height\":12*6,\"shoe size\":10,\"hair\":\"brown\"}\n",
    "people=[hamid,hamid1,hamid2]\n",
    "# print(people)\n",
    "for person in people:\n",
    "#     print(person.get(\"height\"))\n",
    "    print(person[\"height\"])"
   ]
  },
  {
   "cell_type": "code",
   "execution_count": 27,
   "id": "4cecf30b",
   "metadata": {},
   "outputs": [
    {
     "ename": "NameError",
     "evalue": "name 'key' is not defined",
     "output_type": "error",
     "traceback": [
      "\u001b[0;31m---------------------------------------------------------------------------\u001b[0m",
      "\u001b[0;31mNameError\u001b[0m                                 Traceback (most recent call last)",
      "Input \u001b[0;32mIn [27]\u001b[0m, in \u001b[0;36m<module>\u001b[0;34m\u001b[0m\n\u001b[1;32m      1\u001b[0m \u001b[38;5;66;03m#Lists inside of dictionaries\u001b[39;00m\n\u001b[1;32m      2\u001b[0m dictionare\u001b[38;5;241m=\u001b[39m{\u001b[38;5;124m\"\u001b[39m\u001b[38;5;124mHamid\u001b[39m\u001b[38;5;124m\"\u001b[39m:[\u001b[38;5;124m\"\u001b[39m\u001b[38;5;124mALi\u001b[39m\u001b[38;5;124m\"\u001b[39m,\u001b[38;5;241m69.6\u001b[39m,\u001b[38;5;124m\"\u001b[39m\u001b[38;5;124mFuture Developer\u001b[39m\u001b[38;5;124m\"\u001b[39m],\n\u001b[1;32m      3\u001b[0m             \u001b[38;5;124m\"\u001b[39m\u001b[38;5;124mLanguage\u001b[39m\u001b[38;5;124m\"\u001b[39m:[\u001b[38;5;124m\"\u001b[39m\u001b[38;5;124mPython\u001b[39m\u001b[38;5;124m\"\u001b[39m,\u001b[38;5;124m\"\u001b[39m\u001b[38;5;124mMachance Learning\u001b[39m\u001b[38;5;124m\"\u001b[39m,\u001b[38;5;124m\"\u001b[39m\u001b[38;5;124mDeep Learning\u001b[39m\u001b[38;5;124m\"\u001b[39m],\n\u001b[1;32m      4\u001b[0m            \u001b[38;5;124m\"\u001b[39m\u001b[38;5;124mlaptop\u001b[39m\u001b[38;5;124m\"\u001b[39m:\u001b[38;5;124m\"\u001b[39m\u001b[38;5;124mFujitsu\u001b[39m\u001b[38;5;124m\"\u001b[39m}\n\u001b[0;32m----> 5\u001b[0m \u001b[38;5;28mprint\u001b[39m(dictionare(\u001b[43mkey\u001b[49m))\n",
      "\u001b[0;31mNameError\u001b[0m: name 'key' is not defined"
     ]
    }
   ],
   "source": [
    "#Lists inside of dictionaries\n",
    "dictionare={\"Hamid\":[\"ALi\",69.6,\"Future Developer\"],\n",
    "            \"Language\":[\"Python\",\"Machance Learning\",\"Deep Learning\"],\n",
    "           \"laptop\":\"Fujitsu\"}\n",
    "print(dictionare)\n"
   ]
  },
  {
   "cell_type": "code",
   "execution_count": 34,
   "id": "2b12da0f",
   "metadata": {},
   "outputs": [
    {
     "data": {
      "text/plain": [
       "12"
      ]
     },
     "execution_count": 34,
     "metadata": {},
     "output_type": "execute_result"
    }
   ],
   "source": [
    "import math\n",
    "a=12.3456\n",
    "b=round(a)\n",
    "b"
   ]
  },
  {
   "cell_type": "code",
   "execution_count": 39,
   "id": "70fe6afc",
   "metadata": {},
   "outputs": [
    {
     "name": "stdout",
     "output_type": "stream",
     "text": [
      "Hey Hamid!\n",
      "196\n"
     ]
    }
   ],
   "source": [
    "#How to create a function in Python\n",
    "#Create a file called functions.py and type: \n",
    "\n",
    "#def greet(name):\n",
    "\n",
    "#The \"def\" defines the function that follows it. \"Greet\" is the name of the function. And then \"name\" is the argument or an input we place inside the function. Then we \"return\" a function that will print \"Hey {name}!\" \n",
    "\n",
    "def greet(name):\n",
    "\n",
    "    return f\"Hey {name}!\"\n",
    "print(greet(\"Hamid\"))\n",
    "\n",
    "#Name isn't defined yet, but that's okay. We'll get to it when its called. And we can call it by typing print(greet('Mattan')). Or any other name you want. The whole thing looks like this: \n",
    "\n",
    "def age_in_dog_years(age):\n",
    "    result = age * 7\n",
    "    return result\n",
    "print(age_in_dog_years(28))\n",
    "\n",
    "#Return is how you get back the result of whatever function your running. If you ever get a return of \"None\" back, it's probably because you forgot to return something. \n",
    "\n",
    "#It's also important to note that each function can only return one thing. If you want to return more than one thing, then you have to return a result as a list or a dictionary. You can also call functions inside of functions.\n",
    "\n",
    "#Remember: variables and functions look the same. You know something is a variable if it doesn't have (). All functions have ().\n",
    "\n"
   ]
  },
  {
   "cell_type": "code",
   "execution_count": null,
   "id": "ca8c6f0a",
   "metadata": {},
   "outputs": [],
   "source": []
  }
 ],
 "metadata": {
  "kernelspec": {
   "display_name": "Python 3 (ipykernel)",
   "language": "python",
   "name": "python3"
  },
  "language_info": {
   "codemirror_mode": {
    "name": "ipython",
    "version": 3
   },
   "file_extension": ".py",
   "mimetype": "text/x-python",
   "name": "python",
   "nbconvert_exporter": "python",
   "pygments_lexer": "ipython3",
   "version": "3.8.10"
  }
 },
 "nbformat": 4,
 "nbformat_minor": 5
}
